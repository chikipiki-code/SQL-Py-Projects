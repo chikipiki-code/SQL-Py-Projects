{
 "cells": [
  {
   "cell_type": "code",
   "execution_count": 19,
   "id": "285a8cdb-f626-410b-bdaa-d62bea8ad7d0",
   "metadata": {},
   "outputs": [
    {
     "name": "stdout",
     "output_type": "stream",
     "text": [
      "Code executed successfully ✅\n"
     ]
    }
   ],
   "source": [
    "import pandas as pd\n",
    "import matplotlib.pyplot as plt\n",
    "import seaborn as sns\n",
    "import mysql.connector\n",
    "import numpy as np\n",
    "\n",
    "db = mysql.connector.connect(\n",
    "    host=\"localhost\",\n",
    "    user=\"root\",  # use 'user', not 'username'\n",
    "    password=\"Nikita123\",\n",
    "    database=\"ecommerce\"  # fixed typo here\n",
    ")\n",
    "\n",
    "cur = db.cursor()  # define cursor properly\n",
    "print(\"Code executed successfully ✅\")\n"
   ]
  },
  {
   "cell_type": "markdown",
   "id": "98b49c99-000a-47e3-9e23-5d6677e50583",
   "metadata": {},
   "source": [
    "# List all unique cities where customers are located."
   ]
  },
  {
   "cell_type": "code",
   "execution_count": 20,
   "id": "6e5ee89c-2575-4258-a216-2f4336b07f5f",
   "metadata": {
    "scrolled": true
   },
   "outputs": [
    {
     "name": "stdout",
     "output_type": "stream",
     "text": [
      "           customer_city\n",
      "0                 franca\n",
      "1  sao bernardo do campo\n",
      "2              sao paulo\n",
      "3        mogi das cruzes\n",
      "4               campinas\n"
     ]
    }
   ],
   "source": [
    "import pandas as pd\n",
    "\n",
    "query = \"SELECT DISTINCT customer_city FROM customers\"\n",
    "cur.execute(query)\n",
    "data = cur.fetchall()\n",
    "\n",
    "df = pd.DataFrame(data, columns=[\"customer_city\"])\n",
    "print(df.head())\n"
   ]
  },
  {
   "cell_type": "code",
   "execution_count": 21,
   "id": "ad731d96-20c5-4a3a-9d47-a3f96e00ca53",
   "metadata": {},
   "outputs": [
    {
     "name": "stdout",
     "output_type": "stream",
     "text": [
      "('customers',)\n",
      "('geolocation',)\n",
      "('order_items',)\n",
      "('orders',)\n",
      "('payments',)\n",
      "('products',)\n",
      "('sellers',)\n"
     ]
    }
   ],
   "source": [
    "cur.execute(\"SHOW TABLES;\")\n",
    "tables = cur.fetchall()\n",
    "for table in tables:\n",
    "    print(table)\n",
    "\n"
   ]
  },
  {
   "cell_type": "markdown",
   "id": "16f8525e-59e9-4682-816d-b092b09f2627",
   "metadata": {},
   "source": [
    "# Count the number of orders placed in 2017."
   ]
  },
  {
   "cell_type": "code",
   "execution_count": 23,
   "id": "723596c4-3e97-4a8d-af8f-b4b40a48ab6a",
   "metadata": {},
   "outputs": [
    {
     "name": "stdout",
     "output_type": "stream",
     "text": [
      "('order_id', 'text', 'YES', '', None, '')\n",
      "('customer_id', 'text', 'YES', '', None, '')\n",
      "('order_status', 'text', 'YES', '', None, '')\n",
      "('order_purchase_timestamp', 'text', 'YES', '', None, '')\n",
      "('order_approved_at', 'text', 'YES', '', None, '')\n",
      "('order_delivered_carrier_date', 'text', 'YES', '', None, '')\n",
      "('order_delivered_customer_date', 'text', 'YES', '', None, '')\n",
      "('order_estimated_delivery_date', 'text', 'YES', '', None, '')\n"
     ]
    }
   ],
   "source": [
    "query = \"DESCRIBE orders;\"\n",
    "cur.execute(query)\n",
    "data = cur.fetchall()\n",
    "for row in data:\n",
    "    print(row)\n",
    "\n"
   ]
  },
  {
   "cell_type": "code",
   "execution_count": 24,
   "id": "0eb0a738-f28a-4dd2-8759-4aead27d0f85",
   "metadata": {},
   "outputs": [
    {
     "data": {
      "text/plain": [
       "('Total order Placed in 2017 are', 90202)"
      ]
     },
     "execution_count": 24,
     "metadata": {},
     "output_type": "execute_result"
    }
   ],
   "source": [
    "query = \"\"\"\n",
    "SELECT COUNT(order_id)\n",
    "FROM orders\n",
    "WHERE YEAR(STR_TO_DATE(order_purchase_timestamp, '%m/%d/%Y %H:%i')) = 2017;\n",
    "\"\"\"\n",
    "cur.execute(query)\n",
    "data = cur.fetchall()\n",
    "\"Total order Placed in 2017 are\", data [0][0]\n"
   ]
  },
  {
   "cell_type": "markdown",
   "id": "51d26cea-cf60-463b-a0ce-533a9ee54eec",
   "metadata": {},
   "source": [
    "# Find the total sales per category."
   ]
  },
  {
   "cell_type": "code",
   "execution_count": 25,
   "id": "3988ac6c-40f9-4f90-aee5-51c437ad78f7",
   "metadata": {
    "scrolled": true
   },
   "outputs": [
    {
     "name": "stdout",
     "output_type": "stream",
     "text": [
      "('product_id', 'text', 'YES', '', None, '')\n",
      "('product_category', 'text', 'YES', '', None, '')\n",
      "('product_name_length', 'float', 'YES', '', None, '')\n",
      "('product_description_length', 'float', 'YES', '', None, '')\n",
      "('product_photos_qty', 'float', 'YES', '', None, '')\n",
      "('product_weight_g', 'float', 'YES', '', None, '')\n",
      "('product_length_cm', 'float', 'YES', '', None, '')\n",
      "('product_height_cm', 'float', 'YES', '', None, '')\n",
      "('product_width_cm', 'float', 'YES', '', None, '')\n"
     ]
    }
   ],
   "source": [
    "cur.execute(\"SHOW COLUMNS FROM products\")\n",
    "for row in cur.fetchall():\n",
    "    print(row)\n"
   ]
  },
  {
   "cell_type": "code",
   "execution_count": 26,
   "id": "1448bea0-0b1c-441c-8f17-f5a4fc0cc66f",
   "metadata": {},
   "outputs": [
    {
     "name": "stdout",
     "output_type": "stream",
     "text": [
      "('order_id', 'text', 'YES', '', None, '')\n",
      "('payment_sequential', 'int', 'YES', '', None, '')\n",
      "('payment_type', 'text', 'YES', '', None, '')\n",
      "('payment_installments', 'int', 'YES', '', None, '')\n",
      "('payment_value', 'float', 'YES', '', None, '')\n"
     ]
    }
   ],
   "source": [
    "cur.execute(\"DESCRIBE payments\")\n",
    "for row in cur.fetchall():\n",
    "    print(row)\n"
   ]
  },
  {
   "cell_type": "code",
   "execution_count": 27,
   "id": "457e82ce-4a27-475a-b609-2e7d10dd47e0",
   "metadata": {},
   "outputs": [
    {
     "data": {
      "text/html": [
       "<div>\n",
       "<style scoped>\n",
       "    .dataframe tbody tr th:only-of-type {\n",
       "        vertical-align: middle;\n",
       "    }\n",
       "\n",
       "    .dataframe tbody tr th {\n",
       "        vertical-align: top;\n",
       "    }\n",
       "\n",
       "    .dataframe thead th {\n",
       "        text-align: right;\n",
       "    }\n",
       "</style>\n",
       "<table border=\"1\" class=\"dataframe\">\n",
       "  <thead>\n",
       "    <tr style=\"text-align: right;\">\n",
       "      <th></th>\n",
       "      <th>Category</th>\n",
       "      <th>Sales</th>\n",
       "    </tr>\n",
       "  </thead>\n",
       "  <tbody>\n",
       "    <tr>\n",
       "      <th>0</th>\n",
       "      <td>PERFUMERY</td>\n",
       "      <td>4053909.28</td>\n",
       "    </tr>\n",
       "    <tr>\n",
       "      <th>1</th>\n",
       "      <td>FURNITURE DECORATION</td>\n",
       "      <td>11441411.13</td>\n",
       "    </tr>\n",
       "    <tr>\n",
       "      <th>2</th>\n",
       "      <td>TELEPHONY</td>\n",
       "      <td>3895056.41</td>\n",
       "    </tr>\n",
       "    <tr>\n",
       "      <th>3</th>\n",
       "      <td>BED TABLE BATH</td>\n",
       "      <td>13700429.37</td>\n",
       "    </tr>\n",
       "    <tr>\n",
       "      <th>4</th>\n",
       "      <td>AUTOMOTIVE</td>\n",
       "      <td>6818354.65</td>\n",
       "    </tr>\n",
       "    <tr>\n",
       "      <th>...</th>\n",
       "      <td>...</td>\n",
       "      <td>...</td>\n",
       "    </tr>\n",
       "    <tr>\n",
       "      <th>69</th>\n",
       "      <td>CDS MUSIC DVDS</td>\n",
       "      <td>9595.44</td>\n",
       "    </tr>\n",
       "    <tr>\n",
       "      <th>70</th>\n",
       "      <td>LA CUISINE</td>\n",
       "      <td>23308.24</td>\n",
       "    </tr>\n",
       "    <tr>\n",
       "      <th>71</th>\n",
       "      <td>FASHION CHILDREN'S CLOTHING</td>\n",
       "      <td>6285.36</td>\n",
       "    </tr>\n",
       "    <tr>\n",
       "      <th>72</th>\n",
       "      <td>PC GAMER</td>\n",
       "      <td>17395.44</td>\n",
       "    </tr>\n",
       "    <tr>\n",
       "      <th>73</th>\n",
       "      <td>INSURANCE AND SERVICES</td>\n",
       "      <td>2596.08</td>\n",
       "    </tr>\n",
       "  </tbody>\n",
       "</table>\n",
       "<p>74 rows × 2 columns</p>\n",
       "</div>"
      ],
      "text/plain": [
       "                       Category        Sales\n",
       "0                     PERFUMERY   4053909.28\n",
       "1          FURNITURE DECORATION  11441411.13\n",
       "2                     TELEPHONY   3895056.41\n",
       "3                BED TABLE BATH  13700429.37\n",
       "4                    AUTOMOTIVE   6818354.65\n",
       "..                          ...          ...\n",
       "69               CDS MUSIC DVDS      9595.44\n",
       "70                   LA CUISINE     23308.24\n",
       "71  FASHION CHILDREN'S CLOTHING      6285.36\n",
       "72                     PC GAMER     17395.44\n",
       "73       INSURANCE AND SERVICES      2596.08\n",
       "\n",
       "[74 rows x 2 columns]"
      ]
     },
     "execution_count": 27,
     "metadata": {},
     "output_type": "execute_result"
    }
   ],
   "source": [
    "query = \"\"\"\n",
    "SELECT \n",
    "    upper(products.product_category) AS category, \n",
    "    round (SUM(payments.payment_value),2) AS sales\n",
    "FROM products\n",
    "JOIN order_items ON products.product_id = order_items.product_id\n",
    "JOIN payments ON payments.order_id = order_items.order_id\n",
    "GROUP BY category\n",
    "\"\"\"\n",
    "cur.execute(query)\n",
    "data = cur.fetchall()\n",
    "df = pd.DataFrame(data, columns = [\"Category\", \"Sales\"])\n",
    "df\n"
   ]
  },
  {
   "cell_type": "markdown",
   "id": "ea57fef8-eff1-46b4-8b17-b2b10ec234e7",
   "metadata": {},
   "source": [
    "# Calculate the percentage of orders that were paid in installments."
   ]
  },
  {
   "cell_type": "code",
   "execution_count": 28,
   "id": "a55077d2-4699-44b8-a740-861b19e9c067",
   "metadata": {},
   "outputs": [
    {
     "data": {
      "text/plain": [
       "('The percentage of orders that were paid in installments is',\n",
       " Decimal('99.9981'))"
      ]
     },
     "execution_count": 28,
     "metadata": {},
     "output_type": "execute_result"
    }
   ],
   "source": [
    "query = \"\"\"\n",
    "SELECT \n",
    "    (SUM(CASE WHEN payment_installments >= 1 THEN 1 ELSE 0 END) / COUNT(*)) * 100 AS percentage\n",
    "FROM payments;\n",
    "\"\"\"\n",
    "cur.execute(query)\n",
    "data = cur.fetchall()\n",
    "\"The percentage of orders that were paid in installments is\" , data [0][0]\n"
   ]
  },
  {
   "cell_type": "markdown",
   "id": "c8ffcc52-41d2-4d10-ad5c-6415b7b56337",
   "metadata": {},
   "source": [
    "# Count the number of customers from each state."
   ]
  },
  {
   "cell_type": "code",
   "execution_count": 29,
   "id": "56f99886-94f1-4e72-9165-121fccc54507",
   "metadata": {},
   "outputs": [
    {
     "data": {
      "image/png": "[encoded data removed]",
      "text/plain": [
       "<Figure size 640x480 with 1 Axes>"
      ]
     },
     "metadata": {},
     "output_type": "display_data"
    }
   ],
   "source": [
    "query = \"\"\" SELECT customer_state , COUNT(Customer_id)\n",
    "FROM customers GROUP BY customer_state\n",
    "\"\"\"\n",
    "cur.execute(query)\n",
    "data = cur.fetchall()\n",
    "df = pd.DataFrame(data, columns = [\"state\", \"customer_count\"])\n",
    "df = df.sort_values(by =\"customer_count\", ascending=False)\n",
    "\n",
    "plt.bar( df[\"state\"], df[\"customer_count\"])\n",
    "plt.xticks(rotation = 90)\n",
    "plt.show()"
   ]
  },
  {
   "cell_type": "markdown",
   "id": "45c6b676-698b-4477-823f-5419c74548e1",
   "metadata": {},
   "source": [
    "# Calculate the number of orders per month in 2018."
   ]
  },
  {
   "cell_type": "code",
   "execution_count": 30,
   "id": "f7a57f0c-2057-4501-9327-279f73b64748",
   "metadata": {},
   "outputs": [
    {
     "data": {
      "image/png": "[encoded data removed]",
      "text/plain": [
       "<Figure size 1000x500 with 1 Axes>"
      ]
     },
     "metadata": {},
     "output_type": "display_data"
    }
   ],
   "source": [
    "query = \"\"\"\n",
    "SELECT MONTHNAME(STR_TO_DATE(order_purchase_timestamp, '%m/%d/%Y %H:%i')) AS month_name,\n",
    "       COUNT(order_id) AS order_count\n",
    "FROM orders\n",
    "WHERE YEAR(STR_TO_DATEA(order_purchase_timestamp, '%m/%d/%Y %H:%i')) = 2018\n",
    "GROUP BY month_name\n",
    "ORDER BY STR_TO_DATE(CONCAT('01 ', month_name, ' 2018'), '%d %M %Y');\n",
    "\"\"\"\n",
    "cur.execute(query)\n",
    "data = cur.fetchall()\n",
    "\n",
    "# Create DataFrame\n",
    "df = pd.DataFrame(data, columns=[\"months\", \"order_count\"])\n",
    "\n",
    "# Ensure correct month order\n",
    "month_order = [\"January\", \"February\", \"March\", \"April\", \"May\", \"June\",\n",
    "               \"July\", \"August\", \"September\", \"October\", \"November\", \"December\"]\n",
    "df[\"months\"] = pd.Categorical(df[\"months\"], categories=month_order, ordered=True)\n",
    "df = df.sort_values(\"months\")\n",
    "\n",
    "# Plot\n",
    "plt.figure(figsize=(10, 5))\n",
    "plt.bar(df[\"months\"], df[\"order_count\"], color='skyblue')\n",
    "plt.xticks(rotation=45)\n",
    "plt.title(\"Monthly Order Count for 2018\")\n",
    "plt.xlabel(\"Months\")\n",
    "plt.ylabel(\"Order Count\")\n",
    "plt.tight_layout()\n",
    "plt.show()\n",
    " \n"
   ]
  },
  {
   "cell_type": "markdown",
   "id": "bfe6c841-f19a-4b29-ac1e-6a11397cbfa5",
   "metadata": {},
   "source": [
    "# Find the average number of products per order, grouped by customer city."
   ]
  },
  {
   "cell_type": "code",
   "execution_count": 31,
   "id": "d40c5ef6-15ea-4ec4-b654-6365cd19a89a",
   "metadata": {},
   "outputs": [
    {
     "data": {
      "text/html": [
       "<div>\n",
       "<style scoped>\n",
       "    .dataframe tbody tr th:only-of-type {\n",
       "        vertical-align: middle;\n",
       "    }\n",
       "\n",
       "    .dataframe tbody tr th {\n",
       "        vertical-align: top;\n",
       "    }\n",
       "\n",
       "    .dataframe thead th {\n",
       "        text-align: right;\n",
       "    }\n",
       "</style>\n",
       "<table border=\"1\" class=\"dataframe\">\n",
       "  <thead>\n",
       "    <tr style=\"text-align: right;\">\n",
       "      <th></th>\n",
       "      <th>Customer city</th>\n",
       "      <th>average orders</th>\n",
       "    </tr>\n",
       "  </thead>\n",
       "  <tbody>\n",
       "    <tr>\n",
       "      <th>0</th>\n",
       "      <td>sao paulo</td>\n",
       "      <td>4.62</td>\n",
       "    </tr>\n",
       "    <tr>\n",
       "      <th>1</th>\n",
       "      <td>sao jose dos campos</td>\n",
       "      <td>4.55</td>\n",
       "    </tr>\n",
       "    <tr>\n",
       "      <th>2</th>\n",
       "      <td>porto alegre</td>\n",
       "      <td>4.70</td>\n",
       "    </tr>\n",
       "    <tr>\n",
       "      <th>3</th>\n",
       "      <td>indaial</td>\n",
       "      <td>4.46</td>\n",
       "    </tr>\n",
       "    <tr>\n",
       "      <th>4</th>\n",
       "      <td>treze tilias</td>\n",
       "      <td>5.09</td>\n",
       "    </tr>\n",
       "    <tr>\n",
       "      <th>5</th>\n",
       "      <td>rio de janeiro</td>\n",
       "      <td>4.59</td>\n",
       "    </tr>\n",
       "    <tr>\n",
       "      <th>6</th>\n",
       "      <td>mario campos</td>\n",
       "      <td>5.33</td>\n",
       "    </tr>\n",
       "    <tr>\n",
       "      <th>7</th>\n",
       "      <td>guariba</td>\n",
       "      <td>4.00</td>\n",
       "    </tr>\n",
       "    <tr>\n",
       "      <th>8</th>\n",
       "      <td>cuiaba</td>\n",
       "      <td>4.79</td>\n",
       "    </tr>\n",
       "    <tr>\n",
       "      <th>9</th>\n",
       "      <td>franca</td>\n",
       "      <td>5.01</td>\n",
       "    </tr>\n",
       "  </tbody>\n",
       "</table>\n",
       "</div>"
      ],
      "text/plain": [
       "         Customer city average orders\n",
       "0            sao paulo           4.62\n",
       "1  sao jose dos campos           4.55\n",
       "2         porto alegre           4.70\n",
       "3              indaial           4.46\n",
       "4         treze tilias           5.09\n",
       "5       rio de janeiro           4.59\n",
       "6         mario campos           5.33\n",
       "7              guariba           4.00\n",
       "8               cuiaba           4.79\n",
       "9               franca           5.01"
      ]
     },
     "execution_count": 31,
     "metadata": {},
     "output_type": "execute_result"
    }
   ],
   "source": [
    "query = \"\"\"WITH count_per_order AS (\n",
    "    SELECT \n",
    "        o.order_id, \n",
    "        o.customer_id, \n",
    "        COUNT(oi.order_id) AS oc\n",
    "    FROM orders o\n",
    "    JOIN order_items oi ON o.order_id = oi.order_id\n",
    "    GROUP BY o.order_id, o.customer_id\n",
    ")\n",
    "\n",
    "SELECT \n",
    "    c.customer_city, \n",
    "    ROUND(AVG(cpo.oc), 2) AS average_orders\n",
    "FROM customers c\n",
    "JOIN count_per_order cpo ON c.customer_id = cpo.customer_id\n",
    "GROUP BY c.customer_city;\n",
    "\n",
    "\"\"\"\n",
    "cur.execute(query)\n",
    "data = cur.fetchall()\n",
    "df = pd.DataFrame(data, columns = [\"Customer city\", \"average orders\"])\n",
    "df.head(10)\n",
    "\n"
   ]
  },
  {
   "cell_type": "markdown",
   "id": "3d776d88-8405-42ec-95bc-07225398ff7c",
   "metadata": {},
   "source": [
    "# Calculate the percentage of total revenue contributed by each product category."
   ]
  },
  {
   "cell_type": "code",
   "execution_count": 32,
   "id": "042d13bb-d63c-4c4f-8081-0338c54a42c4",
   "metadata": {},
   "outputs": [
    {
     "data": {
      "text/html": [
       "<div>\n",
       "<style scoped>\n",
       "    .dataframe tbody tr th:only-of-type {\n",
       "        vertical-align: middle;\n",
       "    }\n",
       "\n",
       "    .dataframe tbody tr th {\n",
       "        vertical-align: top;\n",
       "    }\n",
       "\n",
       "    .dataframe thead th {\n",
       "        text-align: right;\n",
       "    }\n",
       "</style>\n",
       "<table border=\"1\" class=\"dataframe\">\n",
       "  <thead>\n",
       "    <tr style=\"text-align: right;\">\n",
       "      <th></th>\n",
       "      <th>Customer city</th>\n",
       "      <th>average products/order</th>\n",
       "    </tr>\n",
       "  </thead>\n",
       "  <tbody>\n",
       "    <tr>\n",
       "      <th>0</th>\n",
       "      <td>BED TABLE BATH</td>\n",
       "      <td>42.79</td>\n",
       "    </tr>\n",
       "    <tr>\n",
       "      <th>1</th>\n",
       "      <td>HEALTH BEAUTY</td>\n",
       "      <td>41.41</td>\n",
       "    </tr>\n",
       "    <tr>\n",
       "      <th>2</th>\n",
       "      <td>COMPUTER ACCESSORIES</td>\n",
       "      <td>39.61</td>\n",
       "    </tr>\n",
       "    <tr>\n",
       "      <th>3</th>\n",
       "      <td>FURNITURE DECORATION</td>\n",
       "      <td>35.73</td>\n",
       "    </tr>\n",
       "    <tr>\n",
       "      <th>4</th>\n",
       "      <td>WATCHES PRESENT</td>\n",
       "      <td>35.71</td>\n",
       "    </tr>\n",
       "    <tr>\n",
       "      <th>5</th>\n",
       "      <td>SPORT LEISURE</td>\n",
       "      <td>34.78</td>\n",
       "    </tr>\n",
       "    <tr>\n",
       "      <th>6</th>\n",
       "      <td>HOUSEWARES</td>\n",
       "      <td>27.35</td>\n",
       "    </tr>\n",
       "    <tr>\n",
       "      <th>7</th>\n",
       "      <td>AUTOMOTIVE</td>\n",
       "      <td>21.30</td>\n",
       "    </tr>\n",
       "    <tr>\n",
       "      <th>8</th>\n",
       "      <td>GARDEN TOOLS</td>\n",
       "      <td>20.95</td>\n",
       "    </tr>\n",
       "    <tr>\n",
       "      <th>9</th>\n",
       "      <td>COOL STUFF</td>\n",
       "      <td>19.48</td>\n",
       "    </tr>\n",
       "  </tbody>\n",
       "</table>\n",
       "</div>"
      ],
      "text/plain": [
       "          Customer city  average products/order\n",
       "0        BED TABLE BATH                   42.79\n",
       "1         HEALTH BEAUTY                   41.41\n",
       "2  COMPUTER ACCESSORIES                   39.61\n",
       "3  FURNITURE DECORATION                   35.73\n",
       "4       WATCHES PRESENT                   35.71\n",
       "5         SPORT LEISURE                   34.78\n",
       "6            HOUSEWARES                   27.35\n",
       "7            AUTOMOTIVE                   21.30\n",
       "8          GARDEN TOOLS                   20.95\n",
       "9            COOL STUFF                   19.48"
      ]
     },
     "execution_count": 32,
     "metadata": {},
     "output_type": "execute_result"
    }
   ],
   "source": [
    "query = \"\"\"SELECT \n",
    "    UPPER(products.product_category) AS category, \n",
    "    round((SUM(payments.payment_value) / \n",
    "     (SELECT SUM(payment_value) FROM payments)\n",
    "    ) * 100,2) AS sales_percentage\n",
    "FROM products \n",
    "JOIN order_items ON products.product_id = order_items.product_id\n",
    "JOIN payments ON payments.order_id = order_items.order_id\n",
    "GROUP BY category order by sales_percentage desc;\n",
    "\"\"\"\n",
    "cur.execute(query)\n",
    "data = cur.fetchall() \n",
    "df = pd.DataFrame(data, columns = [\"Customer city\", \"average products/order\"])\n",
    "df.head(10)"
   ]
  },
  {
   "cell_type": "markdown",
   "id": "4d9e5815-2917-47a0-b0a1-c5b1801a91ce",
   "metadata": {},
   "source": [
    "# Identify the correlation between product price and the number of times a product has been purchased."
   ]
  },
  {
   "cell_type": "code",
   "execution_count": 33,
   "id": "ed4087de-44c3-40b3-bdec-c5bffca0ff19",
   "metadata": {},
   "outputs": [
    {
     "name": "stdout",
     "output_type": "stream",
     "text": [
      "[[ 1.         -0.10631514]\n",
      " [-0.10631514  1.        ]]\n"
     ]
    }
   ],
   "source": [
    "query = \"\"\"\n",
    "    SELECT \n",
    "        products.product_category,\n",
    "        COUNT(order_items.product_id) AS product_count,\n",
    "        ROUND(AVG(order_items.price), 2)    \n",
    "    FROM products \n",
    "    JOIN order_items ON products.product_id = order_items.product_id\n",
    "    GROUP BY products.product_category;\n",
    "\"\"\"\n",
    "cur.execute(query)\n",
    "data = cur.fetchall()\n",
    "\n",
    "df = pd.DataFrame(data, columns=[\"Category\", \"product_count\", \"price\"])\n",
    "\n",
    "arr1 = df[\"product_count\"]\n",
    "arr2 = df[\"price\"]\n",
    "\n",
    "print(np.corrcoef([arr1, arr2]))\n"
   ]
  },
  {
   "cell_type": "markdown",
   "id": "fc9c951d-44ba-4599-991c-5a9911bbd050",
   "metadata": {},
   "source": [
    "# Calculate the total revenue generated by each seller, and rank them by revenue."
   ]
  },
  {
   "cell_type": "code",
   "execution_count": 36,
   "id": "130c53f4-8425-4c40-bb8f-91b763afca1a",
   "metadata": {},
   "outputs": [
    {
     "data": {
      "image/png": "[encoded data removed]",
      "text/plain": [
       "<Figure size 640x480 with 1 Axes>"
      ]
     },
     "metadata": {},
     "output_type": "display_data"
    }
   ],
   "source": [
    "query = \"\"\"\n",
    "SELECT *, \n",
    "       DENSE_RANK() OVER (ORDER BY total_payment DESC) AS rn\n",
    "FROM (\n",
    "    SELECT order_items.seller_id, \n",
    "           SUM(payments.payment_value) AS total_payment\n",
    "    FROM order_items \n",
    "    JOIN payments ON order_items.order_id = payments.order_id\n",
    "    GROUP BY order_items.seller_id\n",
    ") AS a;\n",
    "\"\"\"\n",
    "\n",
    "cur.execute(query)\n",
    "data = cur.fetchall()\n",
    "\n",
    "\n",
    "df = pd.DataFrame(data, columns=[\"seller_id\", \"revenue\", \"ranks\"])\n",
    "df = df.head(5)\n",
    "\n",
    "# Plot\n",
    "sns.barplot(x=\"seller_id\", y=\"revenue\", data=df)\n",
    "plt.xticks(rotation=45)\n",
    "plt.title(\"Top 5 Sellers by Revenue\")\n",
    "plt.tight_layout()\n",
    "plt.show()\n"
   ]
  },
  {
   "cell_type": "markdown",
   "id": "854498ac-c819-4eb9-8e28-bad505aef7a7",
   "metadata": {},
   "source": [
    " # Calculate the moving average of order values for each customer over their order history."
   ]
  },
  {
   "cell_type": "code",
   "execution_count": 37,
   "id": "2e2f96ff-907c-40a7-909c-d5913ec401a0",
   "metadata": {},
   "outputs": [
    {
     "data": {
      "text/html": [
       "<div>\n",
       "<style scoped>\n",
       "    .dataframe tbody tr th:only-of-type {\n",
       "        vertical-align: middle;\n",
       "    }\n",
       "\n",
       "    .dataframe tbody tr th {\n",
       "        vertical-align: top;\n",
       "    }\n",
       "\n",
       "    .dataframe thead th {\n",
       "        text-align: right;\n",
       "    }\n",
       "</style>\n",
       "<table border=\"1\" class=\"dataframe\">\n",
       "  <thead>\n",
       "    <tr style=\"text-align: right;\">\n",
       "      <th></th>\n",
       "      <th>customer_id</th>\n",
       "      <th>History_time</th>\n",
       "      <th>Moving Average</th>\n",
       "    </tr>\n",
       "  </thead>\n",
       "  <tbody>\n",
       "    <tr>\n",
       "      <th>0</th>\n",
       "      <td>00012a2ce6f8dcda20d059ce98491703</td>\n",
       "      <td>11/14/2017 16:08</td>\n",
       "      <td>114.739998</td>\n",
       "    </tr>\n",
       "    <tr>\n",
       "      <th>1</th>\n",
       "      <td>00012a2ce6f8dcda20d059ce98491703</td>\n",
       "      <td>11/14/2017 16:08</td>\n",
       "      <td>114.739998</td>\n",
       "    </tr>\n",
       "    <tr>\n",
       "      <th>2</th>\n",
       "      <td>00012a2ce6f8dcda20d059ce98491703</td>\n",
       "      <td>11/14/2017 16:08</td>\n",
       "      <td>114.739998</td>\n",
       "    </tr>\n",
       "    <tr>\n",
       "      <th>3</th>\n",
       "      <td>00012a2ce6f8dcda20d059ce98491703</td>\n",
       "      <td>11/14/2017 16:08</td>\n",
       "      <td>114.739998</td>\n",
       "    </tr>\n",
       "    <tr>\n",
       "      <th>4</th>\n",
       "      <td>000161a058600d5901f007fab4c27140</td>\n",
       "      <td>7/16/2017 9:40</td>\n",
       "      <td>67.410004</td>\n",
       "    </tr>\n",
       "    <tr>\n",
       "      <th>5</th>\n",
       "      <td>000161a058600d5901f007fab4c27140</td>\n",
       "      <td>7/16/2017 9:40</td>\n",
       "      <td>67.410004</td>\n",
       "    </tr>\n",
       "    <tr>\n",
       "      <th>6</th>\n",
       "      <td>000161a058600d5901f007fab4c27140</td>\n",
       "      <td>7/16/2017 9:40</td>\n",
       "      <td>67.410004</td>\n",
       "    </tr>\n",
       "    <tr>\n",
       "      <th>7</th>\n",
       "      <td>000161a058600d5901f007fab4c27140</td>\n",
       "      <td>7/16/2017 9:40</td>\n",
       "      <td>67.410004</td>\n",
       "    </tr>\n",
       "    <tr>\n",
       "      <th>8</th>\n",
       "      <td>0001fd6190edaaf884bcaf3d49edf079</td>\n",
       "      <td>2/28/2017 11:06</td>\n",
       "      <td>195.419998</td>\n",
       "    </tr>\n",
       "    <tr>\n",
       "      <th>9</th>\n",
       "      <td>0001fd6190edaaf884bcaf3d49edf079</td>\n",
       "      <td>2/28/2017 11:06</td>\n",
       "      <td>195.419998</td>\n",
       "    </tr>\n",
       "  </tbody>\n",
       "</table>\n",
       "</div>"
      ],
      "text/plain": [
       "                        customer_id     History_time   Moving Average\n",
       "0  00012a2ce6f8dcda20d059ce98491703  11/14/2017 16:08      114.739998\n",
       "1  00012a2ce6f8dcda20d059ce98491703  11/14/2017 16:08      114.739998\n",
       "2  00012a2ce6f8dcda20d059ce98491703  11/14/2017 16:08      114.739998\n",
       "3  00012a2ce6f8dcda20d059ce98491703  11/14/2017 16:08      114.739998\n",
       "4  000161a058600d5901f007fab4c27140    7/16/2017 9:40       67.410004\n",
       "5  000161a058600d5901f007fab4c27140    7/16/2017 9:40       67.410004\n",
       "6  000161a058600d5901f007fab4c27140    7/16/2017 9:40       67.410004\n",
       "7  000161a058600d5901f007fab4c27140    7/16/2017 9:40       67.410004\n",
       "8  0001fd6190edaaf884bcaf3d49edf079   2/28/2017 11:06      195.419998\n",
       "9  0001fd6190edaaf884bcaf3d49edf079   2/28/2017 11:06      195.419998"
      ]
     },
     "execution_count": 37,
     "metadata": {},
     "output_type": "execute_result"
    }
   ],
   "source": [
    "query = \"\"\"SELECT customer_id, \n",
    "       order_purchase_timestamp,\n",
    "       AVG(payment) OVER (\n",
    "           PARTITION BY customer_id \n",
    "           ORDER BY order_purchase_timestamp \n",
    "           ROWS BETWEEN 2 PRECEDING AND CURRENT ROW\n",
    "       ) AS mov_avg\n",
    "FROM (\n",
    "    SELECT orders.customer_id, \n",
    "           orders.order_purchase_timestamp,\n",
    "           payments.payment_value AS payment\n",
    "    FROM payments \n",
    "    JOIN orders ON payments.order_id = orders.order_id\n",
    ") AS a;\n",
    "\n",
    "\"\"\"\n",
    "\n",
    "cur.execute(query)\n",
    "data = cur.fetchall()\n",
    "df = pd.DataFrame(data, columns=[\"customer_id\", \"History_time \", \"Moving Average\"])\n",
    "df.head(10)"
   ]
  },
  {
   "cell_type": "markdown",
   "id": "92ef5982-e8a6-4a26-ad89-662df6eb8bbc",
   "metadata": {},
   "source": [
    "# Calculate the cumulative sales per month for each year."
   ]
  },
  {
   "cell_type": "code",
   "execution_count": 40,
   "id": "70816164-b503-46e3-845e-55c8113dd796",
   "metadata": {},
   "outputs": [
    {
     "data": {
      "text/html": [
       "<div>\n",
       "<style scoped>\n",
       "    .dataframe tbody tr th:only-of-type {\n",
       "        vertical-align: middle;\n",
       "    }\n",
       "\n",
       "    .dataframe tbody tr th {\n",
       "        vertical-align: top;\n",
       "    }\n",
       "\n",
       "    .dataframe thead th {\n",
       "        text-align: right;\n",
       "    }\n",
       "</style>\n",
       "<table border=\"1\" class=\"dataframe\">\n",
       "  <thead>\n",
       "    <tr style=\"text-align: right;\">\n",
       "      <th></th>\n",
       "      <th>Year</th>\n",
       "      <th>Months</th>\n",
       "      <th>monthly_payments</th>\n",
       "      <th>cumulative_sales</th>\n",
       "    </tr>\n",
       "  </thead>\n",
       "  <tbody>\n",
       "    <tr>\n",
       "      <th>0</th>\n",
       "      <td>NaN</td>\n",
       "      <td>NaN</td>\n",
       "      <td>38058776.19</td>\n",
       "      <td>38058776.19</td>\n",
       "    </tr>\n",
       "    <tr>\n",
       "      <th>1</th>\n",
       "      <td>2016.0</td>\n",
       "      <td>2.0</td>\n",
       "      <td>437.36</td>\n",
       "      <td>437.36</td>\n",
       "    </tr>\n",
       "    <tr>\n",
       "      <th>2</th>\n",
       "      <td>2016.0</td>\n",
       "      <td>3.0</td>\n",
       "      <td>2380.56</td>\n",
       "      <td>2817.92</td>\n",
       "    </tr>\n",
       "    <tr>\n",
       "      <th>3</th>\n",
       "      <td>2016.0</td>\n",
       "      <td>4.0</td>\n",
       "      <td>48203.52</td>\n",
       "      <td>51021.44</td>\n",
       "    </tr>\n",
       "    <tr>\n",
       "      <th>4</th>\n",
       "      <td>2016.0</td>\n",
       "      <td>5.0</td>\n",
       "      <td>41149.12</td>\n",
       "      <td>92170.56</td>\n",
       "    </tr>\n",
       "    <tr>\n",
       "      <th>5</th>\n",
       "      <td>2016.0</td>\n",
       "      <td>6.0</td>\n",
       "      <td>37594.44</td>\n",
       "      <td>129765.00</td>\n",
       "    </tr>\n",
       "    <tr>\n",
       "      <th>6</th>\n",
       "      <td>2016.0</td>\n",
       "      <td>7.0</td>\n",
       "      <td>33020.76</td>\n",
       "      <td>162785.76</td>\n",
       "    </tr>\n",
       "    <tr>\n",
       "      <th>7</th>\n",
       "      <td>2016.0</td>\n",
       "      <td>8.0</td>\n",
       "      <td>38864.52</td>\n",
       "      <td>201650.28</td>\n",
       "    </tr>\n",
       "    <tr>\n",
       "      <th>8</th>\n",
       "      <td>2016.0</td>\n",
       "      <td>9.0</td>\n",
       "      <td>16608.44</td>\n",
       "      <td>218258.72</td>\n",
       "    </tr>\n",
       "    <tr>\n",
       "      <th>9</th>\n",
       "      <td>2016.0</td>\n",
       "      <td>10.0</td>\n",
       "      <td>18700.40</td>\n",
       "      <td>236959.12</td>\n",
       "    </tr>\n",
       "  </tbody>\n",
       "</table>\n",
       "</div>"
      ],
      "text/plain": [
       "     Year  Months  monthly_payments  cumulative_sales\n",
       "0     NaN     NaN       38058776.19       38058776.19\n",
       "1  2016.0     2.0            437.36            437.36\n",
       "2  2016.0     3.0           2380.56           2817.92\n",
       "3  2016.0     4.0          48203.52          51021.44\n",
       "4  2016.0     5.0          41149.12          92170.56\n",
       "5  2016.0     6.0          37594.44         129765.00\n",
       "6  2016.0     7.0          33020.76         162785.76\n",
       "7  2016.0     8.0          38864.52         201650.28\n",
       "8  2016.0     9.0          16608.44         218258.72\n",
       "9  2016.0    10.0          18700.40         236959.12"
      ]
     },
     "execution_count": 40,
     "metadata": {},
     "output_type": "execute_result"
    }
   ],
   "source": [
    "query = \"\"\"SELECT \n",
    "    a.years, \n",
    "    a.months, \n",
    "    a.monthly_payment, \n",
    "    SUM(a.monthly_payment) OVER (PARTITION BY a.years ORDER BY a.months) AS cumulative_sales\n",
    "FROM (\n",
    "    SELECT \n",
    "        YEAR(STR_TO_DATE(o.order_purchase_timestamp, '%d/%m/%Y %H:%i')) AS years,\n",
    "        MONTH(STR_TO_DATE(o.order_purchase_timestamp, '%d/%m/%Y %H:%i')) AS months,\n",
    "        ROUND(SUM(p.payment_value), 2) AS monthly_payment\n",
    "    FROM orders o\n",
    "    JOIN payments p ON o.order_id = p.order_id\n",
    "    GROUP BY years, months\n",
    ") AS a\n",
    "ORDER BY a.years, a.months;\n",
    "\n",
    "\"\"\"\n",
    "\n",
    "cur.execute(query)\n",
    "data = cur.fetchall()\n",
    "df = pd.DataFrame(data, columns=[\"Year\", \"Months\", \"monthly_payments\",\"cumulative_sales\"])\n",
    "df.head(10)"
   ]
  },
  {
   "cell_type": "markdown",
   "id": "d933c832-eead-410a-9f13-0e2a69a9ea46",
   "metadata": {},
   "source": [
    "# Calculate the year-over-year growth rate of total sales."
   ]
  },
  {
   "cell_type": "code",
   "execution_count": 50,
   "id": "eb3c0256-b907-481e-940c-c83c5f1310d6",
   "metadata": {},
   "outputs": [
    {
     "data": {
      "text/html": [
       "<div>\n",
       "<style scoped>\n",
       "    .dataframe tbody tr th:only-of-type {\n",
       "        vertical-align: middle;\n",
       "    }\n",
       "\n",
       "    .dataframe tbody tr th {\n",
       "        vertical-align: top;\n",
       "    }\n",
       "\n",
       "    .dataframe thead th {\n",
       "        text-align: right;\n",
       "    }\n",
       "</style>\n",
       "<table border=\"1\" class=\"dataframe\">\n",
       "  <thead>\n",
       "    <tr style=\"text-align: right;\">\n",
       "      <th></th>\n",
       "      <th>Year</th>\n",
       "      <th>Total_Payment</th>\n",
       "      <th>Previous_Year_Payment</th>\n",
       "      <th>Growth_Rate</th>\n",
       "    </tr>\n",
       "  </thead>\n",
       "  <tbody>\n",
       "    <tr>\n",
       "      <th>0</th>\n",
       "      <td>NaN</td>\n",
       "      <td>38058776.19</td>\n",
       "      <td>NaN</td>\n",
       "      <td>NaN</td>\n",
       "    </tr>\n",
       "    <tr>\n",
       "      <th>1</th>\n",
       "      <td>2016.0</td>\n",
       "      <td>236959.12</td>\n",
       "      <td>38058776.19</td>\n",
       "      <td>-0.99</td>\n",
       "    </tr>\n",
       "    <tr>\n",
       "      <th>2</th>\n",
       "      <td>2017.0</td>\n",
       "      <td>11210684.96</td>\n",
       "      <td>236959.12</td>\n",
       "      <td>46.31</td>\n",
       "    </tr>\n",
       "    <tr>\n",
       "      <th>3</th>\n",
       "      <td>2018.0</td>\n",
       "      <td>14529068.21</td>\n",
       "      <td>11210684.96</td>\n",
       "      <td>0.30</td>\n",
       "    </tr>\n",
       "  </tbody>\n",
       "</table>\n",
       "</div>"
      ],
      "text/plain": [
       "     Year  Total_Payment  Previous_Year_Payment  Growth_Rate\n",
       "0     NaN    38058776.19                    NaN          NaN\n",
       "1  2016.0      236959.12            38058776.19        -0.99\n",
       "2  2017.0    11210684.96              236959.12        46.31\n",
       "3  2018.0    14529068.21            11210684.96         0.30"
      ]
     },
     "execution_count": 50,
     "metadata": {},
     "output_type": "execute_result"
    }
   ],
   "source": [
    "query = \"\"\"\n",
    "WITH a AS (\n",
    "    SELECT \n",
    "        YEAR(STR_TO_DATE(orders.order_purchase_timestamp, '%d/%m/%Y %H:%i')) AS year,\n",
    "        ROUND(SUM(payments.payment_value), 2) AS total_payment\n",
    "    FROM orders\n",
    "    JOIN payments ON orders.order_id = payments.order_id\n",
    "    GROUP BY year\n",
    ")\n",
    "SELECT  \n",
    "    year,\n",
    "    total_payment,\n",
    "    LAG(total_payment, 1) OVER (ORDER BY year) AS previous_year_payment,\n",
    "    ROUND((total_payment - LAG(total_payment, 1) OVER (ORDER BY year)) / \n",
    "          LAG(total_payment, 1) OVER (ORDER BY year), 2) AS growth_rate\n",
    "FROM a;\n",
    "\"\"\"\n",
    "cur.execute(query)\n",
    "data = cur.fetchall()\n",
    "df = pd.DataFrame(data, columns=[\"Year\", \"Total_Payment\", \"Previous_Year_Payment\", \"Growth_Rate\"])\n",
    "df.head(10)\n"
   ]
  },
  {
   "cell_type": "markdown",
   "id": "4012bcb5-ee99-4e92-a78b-831b555d256e",
   "metadata": {},
   "source": [
    "# Calculate the retention rate of customers, defined as the percentage of customers who make another purchase within 6 months of their first purchase."
   ]
  },
  {
   "cell_type": "code",
   "execution_count": 52,
   "id": "a68393c0-371c-45fc-a268-c3db413969cc",
   "metadata": {},
   "outputs": [
    {
     "data": {
      "text/plain": [
       "[(None,)]"
      ]
     },
     "execution_count": 52,
     "metadata": {},
     "output_type": "execute_result"
    }
   ],
   "source": [
    "query = \"\"\"with a as (select customers.customer_id,\n",
    "min(orders.order_purchase_timestamp) first_order\n",
    "from customers join orders\n",
    "on customers.customer_id = orders.customer_id\n",
    "group by customers.customer_id),\n",
    "\n",
    "b as (select a.customer_id, count(distinct orders.order_purchase_timestamp) next_order\n",
    "from a join orders\n",
    "on orders.customer_id = a.customer_id\n",
    "and orders.order_purchase_timestamp > first_order\n",
    "and orders.order_purchase_timestamp < \n",
    "date_add(first_order, interval 6 month)\n",
    "group by a.customer_id) \n",
    "\n",
    "select 100 * (count( distinct a.customer_id)/ count(distinct b.customer_id)) \n",
    "from a left join b \n",
    "on a.customer_id = b.customer_id ;\"\"\"\n",
    "\n",
    "cur.execute(query)\n",
    "data = cur.fetchall()\n",
    "\n",
    "data"
   ]
  },
  {
   "cell_type": "markdown",
   "id": "2965793e-7d61-462c-a95f-5fedbad435a3",
   "metadata": {},
   "source": [
    "# dentify the top 3 customers who spent the most money in each year."
   ]
  },
  {
   "cell_type": "code",
   "execution_count": 60,
   "id": "4284a8ef-3415-46ba-a2ca-1fafbfd87154",
   "metadata": {
    "scrolled": true
   },
   "outputs": [
    {
     "name": "stdout",
     "output_type": "stream",
     "text": [
      "     year                                id       payment  rank\n",
      "0     NaN  1617b1357756262bfa56ab541c47bc16  54656.320312     1\n",
      "1     NaN  ec5b2ba62e574342386871631fafd3fc  29099.519531     2\n",
      "2     NaN  f48d464a0baaea338cb25f816991ab1f  27688.839844     3\n",
      "3  2016.0  a9dc96b027d1252bbac0a9b72d837fc6   5694.200195     1\n",
      "4  2016.0  1d34ed25963d5aae4cf3d7f3a4cda173   5602.959961     2\n"
     ]
    },
    {
     "data": {
      "image/png": "[encoded data removed]",
      "text/plain": [
       "<Figure size 1200x600 with 1 Axes>"
      ]
     },
     "metadata": {},
     "output_type": "display_data"
    }
   ],
   "source": [
    "\n",
    "query = \"\"\"\n",
    "WITH customer_yearly_payments AS (\n",
    "    SELECT \n",
    "        YEAR(STR_TO_DATE(orders.order_purchase_timestamp, '%d/%m/%Y %H:%i')) AS year,\n",
    "        orders.customer_id,\n",
    "        SUM(payments.payment_value) AS total_payment\n",
    "    FROM orders \n",
    "    JOIN payments ON orders.order_id = payments.order_id\n",
    "    GROUP BY year, orders.customer_id\n",
    "),\n",
    "ranked_customers AS (\n",
    "    SELECT \n",
    "        year,\n",
    "        customer_id,\n",
    "        total_payment,\n",
    "        DENSE_RANK() OVER (PARTITION BY year ORDER BY total_payment DESC) AS payment_rank\n",
    "    FROM customer_yearly_payments\n",
    ")\n",
    "SELECT \n",
    "    year, customer_id, total_payment, payment_rank\n",
    "FROM ranked_customers\n",
    "WHERE payment_rank <= 3;\n",
    "\"\"\"\n",
    "data = cur.fetchall()\n",
    "df = pd.DataFrame(data, columns=[\"year\", \"id\", \"payment\", \"rank\"])\n",
    "print(df.head())\n",
    "sns.set(style=\"whitegrid\")\n",
    "plt.figure(figsize=(12, 6))\n",
    "sns.barplot(x=\"id\", y=\"payment\", hue=\"year\", data=df)\n",
    "plt.xticks(rotation=90)\n",
    "plt.title(\"Top 3 Customers by Total Payment Each Year\")\n",
    "plt.ylabel(\"Total Payment\")\n",
    "plt.xlabel(\"Customer ID\")\n",
    "plt.tight_layout()\n",
    "plt.show()\n"
   ]
  },
  {
   "cell_type": "code",
   "execution_count": null,
   "id": "ce284c14-ced7-47f2-b23a-c3927825fbec",
   "metadata": {},
   "outputs": [],
   "source": []
  }
 ],
 "metadata": {
  "kernelspec": {
   "display_name": "Python 3 (ipykernel)",
   "language": "python",
   "name": "python3"
  },
  "language_info": {
   "codemirror_mode": {
    "name": "ipython",
    "version": 3
   },
   "file_extension": ".py",
   "mimetype": "text/x-python",
   "name": "python",
   "nbconvert_exporter": "python",
   "pygments_lexer": "ipython3",
   "version": "3.13.3"
  }
 },
 "nbformat": 4,
 "nbformat_minor": 5
}
